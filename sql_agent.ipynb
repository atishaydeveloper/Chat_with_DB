{
 "cells": [
  {
   "cell_type": "code",
   "execution_count": 1,
   "id": "b57ccd10-f024-4eab-b73a-9c5ebed93dc9",
   "metadata": {},
   "outputs": [],
   "source": [
    "from langchain.agents import create_sql_agent\n",
    "from langchain.agents.agent_toolkits import SQLDatabaseToolkit\n",
    "from langchain.sql_database import SQLDatabase\n",
    "from langchain_google_genai import ChatGoogleGenerativeAI\n",
    "from urllib.parse import quote_plus\n",
    "from langchain_community.utilities import SQLDatabase\n",
    "import os"
   ]
  },
  {
   "cell_type": "code",
   "execution_count": null,
   "id": "cc801a48-f532-43bf-b440-c993d230a0cc",
   "metadata": {
    "scrolled": true
   },
   "outputs": [],
   "source": [
    "# Set your OpenAI key\n",
    "os.environ[\"GOOGLE_API_KEY\"] = \"Google_api_key\""
   ]
  },
  {
   "cell_type": "code",
   "execution_count": null,
   "id": "06408d58-93c3-40a7-931b-e259814a9e61",
   "metadata": {
    "scrolled": true
   },
   "outputs": [],
   "source": [
    "from urllib.parse import quote_plus\n",
    "from sqlalchemy import create_engine\n",
    "from langchain_community.utilities import SQLDatabase\n",
    "from langchain.agents.agent_toolkits import SQLDatabaseToolkit\n",
    "from langchain.agents import create_sql_agent\n",
    "from langchain_google_genai import ChatGoogleGenerativeAI\n",
    "\n",
    "# Step 1: Build proper connection string using SQL Server Authentication\n",
    "driver = \"ODBC Driver 17 for SQL Server\"\n",
    "username = \"H@rd@_IND\"\n",
    "password = \"H@rD@DmY\"\n",
    "server = \"eeeit.work\"\n",
    "database = \"HardaIndoreERPDummy\"  # Make sure this is correct\n",
    "\n",
    "# Step 2: Encode the connection string for URI\n",
    "params = quote_plus(\n",
    "    f\"DRIVER={driver};SERVER={server};DATABASE={database};UID={username};PWD={password}\"\n",
    ")\n",
    "\n",
    "connection_uri = f\"mssql+pyodbc:///?odbc_connect={params}\"\n",
    "\n",
    "# Step 3: Connect to DB\n",
    "db = SQLDatabase.from_uri(connection_uri)\n",
    "\n",
    "# Step 4: Use Gemini model for LLM\n",
    "llm = ChatGoogleGenerativeAI(temperature=0, model=\"gemini-2.5-flash\")\n",
    "\n",
    "# Step 5: Setup agent with database tools\n",
    "toolkit = SQLDatabaseToolkit(db=db, llm=llm)\n",
    "agent_executor = create_sql_agent(llm=llm, toolkit=toolkit, verbose=True)\n",
    "\n",
    "# Step 6: Ask a natural language question\n",
    "response = agent_executor.run(\"is there any information about Cosmetic Box in the BiltyDetail table?\")\n",
    "print(response)\n"
   ]
  },
  {
   "cell_type": "code",
   "execution_count": null,
   "id": "0359a27f-a87d-49ca-bcbf-37fd81aa096e",
   "metadata": {},
   "outputs": [],
   "source": []
  }
 ],
 "metadata": {
  "kernelspec": {
   "display_name": "Python 3 (ipykernel)",
   "language": "python",
   "name": "python3"
  },
  "language_info": {
   "codemirror_mode": {
    "name": "ipython",
    "version": 3
   },
   "file_extension": ".py",
   "mimetype": "text/x-python",
   "name": "python",
   "nbconvert_exporter": "python",
   "pygments_lexer": "ipython3",
   "version": "3.10.18"
  }
 },
 "nbformat": 4,
 "nbformat_minor": 5
}
